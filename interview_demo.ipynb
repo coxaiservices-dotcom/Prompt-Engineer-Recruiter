{
 "cells": [
  {
   "cell_type": "markdown",
   "id": "d80e36f3",
   "metadata": {},
   "source": [
    "# Prompt Engineering Demo (Generic)"
   ]
  },
  {
   "cell_type": "markdown",
   "id": "cb0be0a0",
   "metadata": {},
   "source": [
    "Offline-friendly demo showcasing: Prompt Templates, Multi-Turn, and Tiny RAG."
   ]
  },
  {
   "cell_type": "code",
   "execution_count": 1,
   "id": "01c189ab",
   "metadata": {},
   "outputs": [
    {
     "name": "stdout",
     "output_type": "stream",
     "text": [
      "Here is a concise, policy-aware answer based on your prompt.\n"
     ]
    }
   ],
   "source": [
    "from demo_lib import *\n",
    "llm = get_llm()\n",
    "print(llm.invoke('Test LLM (offline-friendly)'))"
   ]
  },
  {
   "cell_type": "markdown",
   "id": "8866e8ae",
   "metadata": {},
   "source": [
    "## Multi-Turn"
   ]
  },
  {
   "cell_type": "code",
   "execution_count": 2,
   "id": "0a814cd7",
   "metadata": {},
   "outputs": [
    {
     "name": "stdout",
     "output_type": "stream",
     "text": [
      "RAG uses retrieved context to ground answers; if info is missing, say 'Not in context.'\n"
     ]
    }
   ],
   "source": [
    "chat = ChatSession(system='You are concise.')\n",
    "chat.add_user('Explain RAG briefly.')\n",
    "print(llm.invoke(chat.prompt_text()))"
   ]
  },
  {
   "cell_type": "markdown",
   "id": "daacb89a",
   "metadata": {},
   "source": [
    "## Tiny RAG on Generic Corpus"
   ]
  },
  {
   "cell_type": "code",
   "execution_count": 3,
   "id": "ef905725",
   "metadata": {},
   "outputs": [
    {
     "name": "stdout",
     "output_type": "stream",
     "text": [
      "[('sample_corpus#chunk1', \"GENERIC CORPUS (DEMO-ONLY)\\n- Prompt Libraries increase consistency and reduce variance across teams.\\n- Multi-turn chat requires maintaining concise conversation state and summaries.\\n- RAG (Retrieval-Augmented Generation) grounds answers in a controlled corpus and\\n  should say 'Not in context' when documents do not contain the answer.\", 1)]\n"
     ]
    }
   ],
   "source": [
    "docs = {\n",
    " 'sample_policy': open('data/context/sample_policy.txt').read(),\n",
    " 'sample_corpus': open('data/context/sample_corpus.txt').read()\n",
    "}\n",
    "print(retrieve_top_k('uncertain answers', docs))"
   ]
  }
 ],
 "metadata": {
  "kernelspec": {
   "display_name": ".venv",
   "language": "python",
   "name": "python3"
  },
  "language_info": {
   "codemirror_mode": {
    "name": "ipython",
    "version": 3
   },
   "file_extension": ".py",
   "mimetype": "text/x-python",
   "name": "python",
   "nbconvert_exporter": "python",
   "pygments_lexer": "ipython3",
   "version": "3.11.8"
  }
 },
 "nbformat": 4,
 "nbformat_minor": 5
}
