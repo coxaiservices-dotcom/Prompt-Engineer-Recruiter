{
 "cells": [
  {
   "cell_type": "markdown",
   "id": "d80e36f3",
   "metadata": {},
   "source": [
    "# Prompt Engineering Demo (Generic)"
   ]
  },
  {
   "cell_type": "markdown",
   "id": "cb0be0a0",
   "metadata": {},
   "source": [
    "Offline-friendly demo showcasing: Prompt Templates, Multi-Turn, and Tiny RAG."
   ]
  },
  {
   "cell_type": "code",
   "execution_count": null,
   "id": "01c189ab",
   "metadata": {},
   "outputs": [],
   "source": [
    "from demo_lib import *\n",
    "llm = get_llm()\n",
    "print(llm.invoke('Test LLM (offline-friendly)'))"
   ]
  },
  {
   "cell_type": "markdown",
   "id": "8866e8ae",
   "metadata": {},
   "source": [
    "## Multi-Turn"
   ]
  },
  {
   "cell_type": "code",
   "execution_count": null,
   "id": "0a814cd7",
   "metadata": {},
   "outputs": [],
   "source": [
    "chat = ChatSession(system='You are concise.')\n",
    "chat.add_user('Explain RAG briefly.')\n",
    "print(llm.invoke(chat.prompt_text()))"
   ]
  },
  {
   "cell_type": "markdown",
   "id": "daacb89a",
   "metadata": {},
   "source": [
    "## Tiny RAG on Generic Corpus"
   ]
  },
  {
   "cell_type": "code",
   "execution_count": null,
   "id": "ef905725",
   "metadata": {},
   "outputs": [],
   "source": [
    "docs = {\n",
    " 'sample_policy': open('data/context/sample_policy.txt').read(),\n",
    " 'sample_corpus': open('data/context/sample_corpus.txt').read()\n",
    "}\n",
    "print(retrieve_top_k('uncertain answers', docs))"
   ]
  }
 ],
 "metadata": {},
 "nbformat": 4,
 "nbformat_minor": 5
}
